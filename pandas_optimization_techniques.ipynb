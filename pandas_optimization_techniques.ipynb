{
 "cells": [
  {
   "cell_type": "markdown",
   "id": "3b21eb1c-e06f-44f0-ab3a-b2bf541b3c01",
   "metadata": {},
   "source": [
    "# Методы оптимизации Pandas"
   ]
  },
  {
   "cell_type": "code",
   "execution_count": 14,
   "id": "a24936ef-efb1-40ff-a2d5-008bf3bdc079",
   "metadata": {},
   "outputs": [],
   "source": [
    "%reload_ext memory_profiler"
   ]
  },
  {
   "cell_type": "markdown",
   "id": "76e2486a-ee79-4133-ac5b-0d2f56ffe82e",
   "metadata": {},
   "source": [
    "## Зачем нужна оптимизация в Pandas\n",
    "\n",
    "Хотя Pandas удобен и гибок, при работе с большими объёмами данных он может потреблять очень много оперативной памяти и работать медленно. Особенно это проявляется при:\n",
    "- загрузке данных с миллионами строк,\n",
    "- множественных группировках и агрегациях,\n",
    "- использовании `apply` или итераций по строкам.\n",
    "\n",
    "### Оптимизация позволяет:\n",
    "- 📈 **Повысить производительность** — сократить время выполнения операций, особенно при работе с большими наборами данных.\n",
    "- 💾 **Снизить потребление памяти** — уменьшить объём данных за счёт оптимальных типов (`category`, `int8`, `float32`).\n",
    "- 🧠 **Сделать код читаемым и поддерживаемым** — за счёт использования векторных операций и встроенных методов Pandas вместо универсальных, но медленных решений (как `apply`).\n",
    "\n",
    "В этом практическом блокноте мы рассмотрим ключевые подходы к оптимизации, сравним производительность разных подходов, и научимся обрабатывать большие объёмы данных эффективно.\n"
   ]
  },
  {
   "cell_type": "markdown",
   "id": "6b850051-cd6f-48f0-82d4-aa6f49c1634f",
   "metadata": {},
   "source": [
    "## 1. Оптимизация по памяти\n",
    "\n",
    "### В чём суть\n",
    "\n",
    "По умолчанию при создании `DataFrame` из NumPy-массивов или при чтении из CSV-файлов Pandas выбирает **тип данных (dtype)** автоматически. Однако эти типы часто бывают избыточными:\n",
    "\n",
    "- `int64` используется даже для колонок, где максимум 0–100.\n",
    "- `float64` применяется к вещественным числам, где хватит `float32`.\n",
    "- `object` используется для строк и категориальных значений, хотя можно применить `category`.\n",
    "\n",
    "Это приводит к **чрезмерному расходу оперативной памяти**, особенно при работе с миллионами строк.\n",
    "\n",
    "---\n",
    "\n",
    "### Как экономить память\n",
    "\n",
    "#### 🔹 Использовать `astype()` для приведения типов:\n",
    "\n",
    "```python\n",
    "df['column'] = df['column'].astype('тип')\n"
   ]
  },
  {
   "cell_type": "markdown",
   "id": "898d532f-c467-4c15-9121-eeb92a21a7a6",
   "metadata": {},
   "source": [
    "### Полезные типы для оптимизации\n",
    "\n",
    "✅ **`category`**  \n",
    "Подходит для колонок с ограниченным числом уникальных значений (например, пол, страна, метки).  \n",
    "\n",
    "- Экономит память: строка `\"Россия\"` хранится один раз и ссылается по индексу.\n",
    "- Ускоряет `groupby`, `merge` и фильтрацию.\n",
    "\n",
    "```python\n",
    "df['gender'] = df['gender'].astype('category')\n"
   ]
  },
  {
   "cell_type": "markdown",
   "id": "3ef95083-efb6-40c4-b39e-e7737617ff7a",
   "metadata": {},
   "source": [
    "✅ **`int8`, `int16`, `int32` вместо `int64`**  \n",
    "Если значения укладываются, можно использовать меньший тип:\n",
    "\n",
    "- `int8`: от -128 до 127  \n",
    "- `uint8`: от 0 до 255\n",
    "\n",
    "```python\n",
    "df['age'] = df['age'].astype('int8')\n"
   ]
  },
  {
   "cell_type": "markdown",
   "id": "9355db62-98e6-4192-8cde-420f12b73345",
   "metadata": {},
   "source": [
    "✅ **`float32` вместо `float64`**  \n",
    "В два раза меньше памяти, если не требуется высокая точность.\n",
    "\n",
    "```python\n",
    "df['score'] = df['score'].astype('float32')\n"
   ]
  },
  {
   "cell_type": "markdown",
   "id": "85e8e261-ee08-4344-88b3-57bd0e02f9c0",
   "metadata": {},
   "source": [
    "### Как измерить экономию\n",
    "\n",
    "Используем `df.info(memory_usage='deep')` до и после оптимизации, чтобы увидеть точный объём памяти, занимаемый DataFrame.\n",
    "\n",
    "```python\n",
    "print(df.info(memory_usage='deep'))\n"
   ]
  },
  {
   "cell_type": "markdown",
   "id": "868e2349-ca96-41f9-8d40-833f0f9b95d8",
   "metadata": {},
   "source": [
    "### Когда **НЕ** стоит оптимизировать\n",
    "\n",
    "- Не стоит понижать тип чисел, если требуется высокая точность (например, в научных расчётах).\n",
    "- Не стоит использовать `category`, если в колонке слишком много уникальных значений — это может даже увеличить использование памяти.\n",
    "\n",
    "---\n",
    "\n",
    "### Вывод\n",
    "\n",
    "Понижение типа данных — один из самых простых и эффективных способов оптимизации. Особенно важно при:\n",
    "\n",
    "- загрузке CSV-файлов в память,\n",
    "- работе с миллионами строк,\n",
    "- подготовке данных к машинному обучению.\n"
   ]
  },
  {
   "cell_type": "code",
   "execution_count": 3,
   "id": "7df595fa-22dd-4a1a-bc58-4289aeab4c55",
   "metadata": {},
   "outputs": [],
   "source": [
    "import pandas as pd\n",
    "import numpy as np\n",
    "import matplotlib.pyplot as plt\n",
    "import time\n"
   ]
  },
  {
   "cell_type": "code",
   "execution_count": 4,
   "id": "a1906da7-9bfb-44fc-b407-c923f1046c9e",
   "metadata": {},
   "outputs": [
    {
     "name": "stdout",
     "output_type": "stream",
     "text": [
      "До оптимизации типов:\n",
      "<class 'pandas.core.frame.DataFrame'>\n",
      "RangeIndex: 1000000 entries, 0 to 999999\n",
      "Data columns (total 5 columns):\n",
      " #   Column    Non-Null Count    Dtype  \n",
      "---  ------    --------------    -----  \n",
      " 0   id        1000000 non-null  int32  \n",
      " 1   category  1000000 non-null  object \n",
      " 2   value     1000000 non-null  float64\n",
      " 3   flag      1000000 non-null  int32  \n",
      " 4   text      1000000 non-null  object \n",
      "dtypes: float64(1), int32(2), object(2)\n",
      "memory usage: 127.8 MB\n",
      "None\n",
      "\n",
      "После оптимизации типов:\n",
      "<class 'pandas.core.frame.DataFrame'>\n",
      "RangeIndex: 1000000 entries, 0 to 999999\n",
      "Data columns (total 5 columns):\n",
      " #   Column    Non-Null Count    Dtype   \n",
      "---  ------    --------------    -----   \n",
      " 0   id        1000000 non-null  int32   \n",
      " 1   category  1000000 non-null  category\n",
      " 2   value     1000000 non-null  float32 \n",
      " 3   flag      1000000 non-null  bool    \n",
      " 4   text      1000000 non-null  category\n",
      "dtypes: bool(1), category(2), float32(1), int32(1)\n",
      "memory usage: 10.5 MB\n",
      "None\n"
     ]
    }
   ],
   "source": [
    "\"\"\"\n",
    "Задача:\n",
    "Показать, как сократить использование оперативной памяти за счёт изменения типов данных.\n",
    "\"\"\"\n",
    "\n",
    "n = 1_000_000\n",
    "data = {\n",
    "    'id': np.arange(n),\n",
    "    'category': np.random.choice(['A', 'B', 'C', 'D'], size=n),\n",
    "    'value': np.random.rand(n) * 100,\n",
    "    'flag': np.random.choice([0, 1], size=n),\n",
    "    'text': np.random.choice(['foo', 'bar', 'baz'], size=n)\n",
    "}\n",
    "\n",
    "print(\"До оптимизации типов:\")\n",
    "df = pd.DataFrame(data)\n",
    "print(df.info(memory_usage='deep'))\n",
    "\n",
    "# Оптимизация типов\n",
    "optimized_df = df.copy()\n",
    "optimized_df['category'] = optimized_df['category'].astype('category')\n",
    "optimized_df['flag'] = optimized_df['flag'].astype('bool')\n",
    "optimized_df['text'] = optimized_df['text'].astype('category')\n",
    "optimized_df['value'] = optimized_df['value'].astype('float32')\n",
    "\n",
    "print(\"\\nПосле оптимизации типов:\")\n",
    "print(optimized_df.info(memory_usage='deep'))\n",
    "\n"
   ]
  },
  {
   "cell_type": "code",
   "execution_count": 9,
   "id": "e6bfc98f-b6ce-4f87-a869-345cb8d182d7",
   "metadata": {},
   "outputs": [],
   "source": [
    "df.to_csv(\"large_data.csv\")"
   ]
  },
  {
   "cell_type": "markdown",
   "id": "65fbf97e-6348-4638-97b3-0c3e03712ab6",
   "metadata": {},
   "source": [
    "## 🧠 2. Векторизация против apply — почему это важно\n",
    "\n",
    "### ❓ Пример задачи:\n",
    "\n",
    "Нужно создать новый столбец `label`, в котором будет:\n",
    "\n",
    "- `'high'`, если значение в `value > 50`;\n",
    "- `'low'` — в остальных случаях.\n",
    "\n",
    "Можно сделать это через `apply`, но гораздо эффективнее — через NumPy-функции вроде `np.where`.\n"
   ]
  },
  {
   "cell_type": "markdown",
   "id": "14893dfc-d95e-4f06-9769-51187616feae",
   "metadata": {},
   "source": [
    "### 🔧 NumPy — это низкоуровневая библиотека, Pandas — высокоуровневая обёртка\n",
    "\n",
    "**NumPy** — это библиотека для работы с массивами, написанная на языке **C**.  \n",
    "Она умеет обрабатывать **целые массивы данных как единое целое**, используя быстрые циклы на уровне процессора.\n",
    "\n",
    "**Pandas** — это библиотека, написанная на **Python**, которая строится **поверх NumPy**.  \n",
    "Она предоставляет более удобный интерфейс (таблицы, метки, методы вроде `apply`, `groupby`), но под капотом всё равно использует массивы NumPy.\n",
    "\n",
    "---\n",
    "\n",
    "📌 **Пример аналогии:**\n",
    "\n",
    "- NumPy — это **двигатель гоночной машины**.  \n",
    "- Pandas — это **машина с рулём, панелью и навигатором**, которая на этом двигателе едет.\n"
   ]
  },
  {
   "cell_type": "markdown",
   "id": "248d1d06-d4f3-4576-a3e9-8d19306127cb",
   "metadata": {},
   "source": [
    "### 🔁 Почему `apply` в Pandas медленный\n",
    "\n",
    "Когда производится операция `df.apply(func, axis=1)`:\n",
    "\n",
    "- для **каждой строки** Pandas:\n",
    "  - создаёт отдельный объект `Series` (это как мини-таблица),\n",
    "  - вызывает твою Python-функцию,\n",
    "  - сохраняет результат обратно в новый столбец.\n",
    "\n",
    "➡️ Это **миллион вызовов Python-функции** и **миллион объектов `Series`**.\n",
    "\n",
    "❗ Всё это — работа **интерпретатора Python**, а не компилированного кода. Поэтому `apply` работает **медленно**, особенно на больших таблицах.\n"
   ]
  },
  {
   "cell_type": "markdown",
   "id": "6e515ee1-e962-45a8-b54c-ab347b807024",
   "metadata": {},
   "source": [
    "### ⚡ Почему NumPy и векторизация работают быстрее\n",
    "\n",
    "NumPy-функции (`np.where`, `np.select`, логические маски и т.д.):\n",
    "\n",
    "- работают на уровне **массивов (`ndarray`)**, без создания отдельных объектов на каждую строку;\n",
    "- написаны на **C или Fortran**, то есть выполняются на **нативной скорости**;\n",
    "- **не требуют вызова Python-функции** для каждой строки;\n",
    "- используют **SIMD-инструкции процессора**, если они доступны (это даёт ускорение на уровне «железа»).\n",
    "\n",
    "---\n",
    "\n",
    "**Пример:**\n",
    "\n",
    "```python\n",
    "df['label'] = np.where(df['value'] > 50, 'high', 'low')\n",
    "\n",
    "Эта строка обрабатывает весь столбец сразу, а не по одной строке из миллиона. Это делает векторизацию в десятки раз быстрее, чем apply.\n"
   ]
  },
  {
   "cell_type": "code",
   "execution_count": 23,
   "id": "c4173602-d656-4948-add7-f1f69111a26e",
   "metadata": {},
   "outputs": [
    {
     "name": "stdout",
     "output_type": "stream",
     "text": [
      "Apply time: 8.644313335418701\n",
      "Vectorized time: 0.0998387336730957\n",
      "Equal results: True\n",
      "peak memory: 647.13 MiB, increment: 234.95 MiB\n"
     ]
    }
   ],
   "source": [
    "%%memit\n",
    "\"\"\"\n",
    "Задача:\n",
    "Сравнить производительность и подход к решению задачи с помощью apply и векторизации (np.where).\n",
    "\"\"\"\n",
    "import time\n",
    "\n",
    "def with_apply(df):\n",
    "    return df.apply(lambda row: 'high' if row['value'] > 50 else 'low', axis=1)\n",
    "\n",
    "def with_vectorized(df):\n",
    "    return np.where(df['value'] > 50, 'high', 'low')\n",
    "\n",
    "start = time.time()\n",
    "df['label_apply'] = with_apply(df)\n",
    "print(\"Apply time:\", time.time() - start)\n",
    "\n",
    "start = time.time()\n",
    "df['label_vector'] = with_vectorized(df)\n",
    "print(\"Vectorized time:\", time.time() - start)\n",
    "\n",
    "print(\"Equal results:\", (df['label_apply'] == df['label_vector']).all())"
   ]
  },
  {
   "cell_type": "markdown",
   "id": "8c597ba0-37fe-4376-a865-2f972f71527e",
   "metadata": {},
   "source": [
    "## 3. Оптимизация группировок\n",
    "\n",
    "### Проблема\n",
    "\n",
    "Группировка данных — одна из самых частых операций в Pandas, особенно при агрегации (сумма, среднее, максимум и т.д.).  \n",
    "Многие используют `groupby().apply()` для этих целей, но это **медленный и затратный** способ, особенно на больших таблицах.\n",
    "\n",
    "---\n",
    "\n",
    "### ❌ Почему `groupby().apply()` медленный\n",
    "\n",
    "```python\n",
    "df.groupby('category').apply(lambda x: x['value'].mean())\n"
   ]
  },
  {
   "cell_type": "markdown",
   "id": "da477560-c039-40b0-8e1e-0af2df68d60b",
   "metadata": {},
   "source": [
    "Внутри `apply`:\n",
    "\n",
    "- создаются временные подтаблицы для каждой группы;\n",
    "- вызывается Python-функция `lambda`;\n",
    "- Pandas обрабатывает результат построчно.\n",
    "\n",
    "➡ Всё это происходит в Python — медленно и с большими накладными расходами.\n",
    "\n",
    "---\n",
    "\n",
    "### ✅ Почему `groupby().agg()` быстрее\n",
    "\n",
    "```python\n",
    "df.groupby('category').agg(mean_value=('value', 'mean'))\n"
   ]
  },
  {
   "cell_type": "markdown",
   "id": "d5bebea2-27e8-43f0-9982-483bea428db5",
   "metadata": {},
   "source": [
    "- `agg()` не вызывает Python-функцию;\n",
    "- использует **встроенные агрегирующие функции** (`mean`, `sum`, `count`, `min`, `max`);\n",
    "- реализован на **C**, а значит работает **значительно быстрее**;\n",
    "- результат **читаемый и компактный**, особенно при нескольких агрегатах.\n",
    "\n",
    "---\n",
    "\n",
    "### 🧪 Пример: среднее и сумма по группам\n",
    "\n",
    "```python\n",
    "df.groupby('region').agg(\n",
    "    avg_salary=('salary', 'mean'),\n",
    "    total_bonus=('bonus', 'sum')\n",
    ")\n"
   ]
  },
  {
   "cell_type": "code",
   "execution_count": 18,
   "id": "2f6c6dde-c7d0-45e7-8cbc-52ae8744b5ff",
   "metadata": {},
   "outputs": [
    {
     "name": "stdout",
     "output_type": "stream",
     "text": [
      "peak memory: 410.62 MiB, increment: 0.00 MiB\n",
      "CPU times: total: 172 ms\n",
      "Wall time: 1.27 s\n"
     ]
    },
    {
     "name": "stderr",
     "output_type": "stream",
     "text": [
      "<string>:7: FutureWarning: The default of observed=False is deprecated and will be changed to True in a future version of pandas. Pass observed=False to retain current behavior or observed=True to adopt the future default and silence this warning.\n",
      "<string>:7: DeprecationWarning: DataFrameGroupBy.apply operated on the grouping columns. This behavior is deprecated, and in a future version of pandas the grouping columns will be excluded from the operation. Either pass `include_groups=False` to exclude the groupings or explicitly select the grouping columns after groupby to silence this warning.\n"
     ]
    }
   ],
   "source": [
    "%%time\n",
    "%%memit\n",
    "\"\"\"\n",
    "Задача:\n",
    "Показать, как использовать groupby().agg() для быстрого и читаемого агрегирования.\n",
    "\"\"\"\n",
    "\n",
    "# Пример с apply\n",
    "result_apply = optimized_df.groupby('category').apply(lambda group: pd.Series({\n",
    "    'mean_value': group['value'].mean(),\n",
    "    'total_flag': group['flag'].sum()\n",
    "}))\n"
   ]
  },
  {
   "cell_type": "code",
   "execution_count": 21,
   "id": "3d27d8e1-6672-4a44-bad5-f05f46fc9103",
   "metadata": {},
   "outputs": [
    {
     "name": "stdout",
     "output_type": "stream",
     "text": [
      "peak memory: 410.43 MiB, increment: 0.01 MiB\n",
      "CPU times: total: 109 ms\n",
      "Wall time: 1.24 s\n"
     ]
    },
    {
     "name": "stderr",
     "output_type": "stream",
     "text": [
      "<string>:2: FutureWarning: The default of observed=False is deprecated and will be changed to True in a future version of pandas. Pass observed=False to retain current behavior or observed=True to adopt the future default and silence this warning.\n"
     ]
    }
   ],
   "source": [
    "%%time\n",
    "%%memit\n",
    "# Пример с agg\n",
    "result_agg = optimized_df.groupby('category').agg(\n",
    "    mean_value=('value', 'mean'),\n",
    "    total_flag=('flag', 'sum')\n",
    ")\n"
   ]
  },
  {
   "cell_type": "markdown",
   "id": "d93b679a-b2a7-40ab-b4b9-0c02731dba3c",
   "metadata": {},
   "source": [
    "## 4. Работа с большими файлами\n",
    "\n",
    "### 🧠 Проблема\n",
    "\n",
    "Когда вы работаете с большими CSV-файлами (100 МБ, 500 МБ, 1+ ГБ), попытка прочитать их **целиком в память** с помощью `pd.read_csv()` может:\n",
    "\n",
    "- сильно замедлить выполнение;\n",
    "- привести к **Out of Memory** (особенно на слабых машинах);\n",
    "- затруднить анализ и обработку из-за перегрузки оперативки.\n",
    "\n",
    "---\n",
    "\n",
    "### 🛠 Решение — `chunksize` в `read_csv`\n",
    "\n",
    "Метод `pd.read_csv()` поддерживает параметр `chunksize`, который позволяет:\n",
    "\n",
    "- **не загружать весь файл сразу**;\n",
    "- **обрабатывать данные частями** — например, по 100 000 строк за раз;\n",
    "- **экономить оперативную память** и повышать стабильность работы скрипта.\n",
    "\n",
    "```python\n",
    "reader = pd.read_csv('data.csv', chunksize=100_000)\n"
   ]
  },
  {
   "cell_type": "markdown",
   "id": "77c69a00-74c6-4407-8664-d1e333373baa",
   "metadata": {},
   "source": [
    "### 🔁 Как это работает\n",
    "\n",
    "`read_csv(..., chunksize=...)` возвращает **генератор**, который выдаёт DataFrame-подобные части файла по указанному количеству строк.\n",
    "\n",
    "Это позволяет вам:\n",
    "\n",
    "- выполнять агрегирование, фильтрацию, подсчёты **постепенно**;\n",
    "- сохранять **промежуточные результаты**;\n",
    "- **объединять** их в конце, если нужно.\n",
    "\n",
    "---\n",
    "\n",
    "### 🧪 Пример: посчитать среднее значение по категориям\n",
    "\n",
    "```python\n",
    "chunk_results = []\n",
    "\n",
    "for chunk in pd.read_csv('data.csv', chunksize=100_000):\n",
    "    summary = chunk.groupby('category')['value'].mean()\n",
    "    chunk_results.append(summary)\n",
    "\n",
    "final_result = pd.concat(chunk_results).groupby(level=0).mean()\n"
   ]
  },
  {
   "cell_type": "markdown",
   "id": "af8ac825-4184-4ec6-bc2f-be59dc35067d",
   "metadata": {},
   "source": [
    "### 💡 Как это помогает\n",
    "\n",
    "- Загрузка больших файлов **без перегрузки оперативной памяти**.\n",
    "- Можно делать **пайплайн обработки по частям** — фильтрация, очистка, агрегация.\n",
    "- Идеально подходит для:\n",
    "  - **ETL-процессов** (извлечение-преобразование-загрузка),\n",
    "  - **предварительной обработки данных**,\n",
    "  - **парсинга логов** и больших CSV/TSV файлов.\n"
   ]
  },
  {
   "cell_type": "code",
   "execution_count": null,
   "id": "8427c0a7-8a13-4b83-be54-03d0384ada9c",
   "metadata": {},
   "outputs": [],
   "source": [
    "%load_ext memory_profiler"
   ]
  },
  {
   "cell_type": "code",
   "execution_count": 15,
   "id": "1f1d6d0c-0a1f-43da-858c-b74221d2f787",
   "metadata": {},
   "outputs": [
    {
     "name": "stdout",
     "output_type": "stream",
     "text": [
      "📦 Полное чтение и группировка:\n",
      "category\n",
      "A    50.090653\n",
      "B    49.958815\n",
      "C    50.020008\n",
      "D    50.018708\n",
      "Name: value, dtype: float64\n",
      "⏱ Время (целиком): 1.3574 сек\n",
      "peak memory: 601.06 MiB, increment: 190.41 MiB\n"
     ]
    }
   ],
   "source": [
    "%%memit\n",
    "\"\"\"\n",
    "Задача:\n",
    "Показать, как читать и обрабатывать большие CSV-файлы по частям с помощью chunksize.\n",
    "\"\"\"\n",
    "\n",
    "# ✅ Подход 1: чтение целиком\n",
    "start_full = time.time()\n",
    "df_full = pd.read_csv('large_data.csv')\n",
    "full_result = df_full.groupby('category')['value'].mean()\n",
    "end_full = time.time()\n",
    "\n",
    "print(\"📦 Полное чтение и группировка:\")\n",
    "print(full_result)\n",
    "print(f\"⏱ Время (целиком): {end_full - start_full:.4f} сек\")"
   ]
  },
  {
   "cell_type": "code",
   "execution_count": 17,
   "id": "f82392be-0b5d-4383-8dee-e0277cc5ff89",
   "metadata": {},
   "outputs": [
    {
     "name": "stdout",
     "output_type": "stream",
     "text": [
      "\n",
      "🔃 Чтение по частям и группировка:\n",
      "category\n",
      "A    50.090615\n",
      "B    49.958811\n",
      "C    50.019465\n",
      "D    50.018582\n",
      "Name: value, dtype: float64\n",
      "⏱ Время (чанки): 1.4302 сек\n",
      "peak memory: 436.32 MiB, increment: 25.66 MiB\n"
     ]
    }
   ],
   "source": [
    "%%memit\n",
    "# 🔁 Подход 2: чтение по чанкам\n",
    "start_chunks = time.time()\n",
    "chunk_results = []\n",
    "for chunk in pd.read_csv('large_data.csv', chunksize=200_000):\n",
    "    summary = chunk.groupby('category')['value'].mean()\n",
    "    chunk_results.append(summary)\n",
    "\n",
    "chunk_result = pd.concat(chunk_results).groupby(level=0).mean()\n",
    "end_chunks = time.time()\n",
    "\n",
    "print(\"\\n🔃 Чтение по частям и группировка:\")\n",
    "print(chunk_result)\n",
    "print(f\"⏱ Время (чанки): {end_chunks - start_chunks:.4f} сек\")"
   ]
  },
  {
   "cell_type": "markdown",
   "id": "f9c8c1cd-e2c7-45b7-9a67-aaa2dd8e5a63",
   "metadata": {},
   "source": [
    "## 5. Профилирование\n",
    "\n",
    "Когда мы оптимизируем код на Pandas, важно понимать:\n",
    "- сколько **времени** занимает операция;\n",
    "- сколько **памяти** она потребляет.\n",
    "\n",
    "Для этого в Jupyter есть удобные **магические команды** и сторонние инструменты.\n",
    "\n",
    "---\n",
    "\n",
    "### ⏱ Время выполнения\n",
    "\n",
    "#### ✅ `%%time` — замер времени выполнения всей ячейки\n",
    "\n",
    "```python\n",
    "%%time\n",
    "df.groupby('category')['value'].mean()\n"
   ]
  },
  {
   "cell_type": "markdown",
   "id": "fd6bd165-42fa-40e0-a1c3-d249920010fb",
   "metadata": {},
   "source": [
    "Покажет общее время выполнения в формате **Wall time**.\n",
    "\n",
    "---\n",
    "\n",
    "✅ `%timeit` — более точное усреднение времени\n",
    "\n",
    "```python\n",
    "%timeit df['value'] > 50\n"
   ]
  },
  {
   "cell_type": "markdown",
   "id": "1f75d894-50ab-468a-bc78-d10f60ab2a38",
   "metadata": {},
   "source": [
    "#### ✅ `%time` — замер времени выполнения одной строки\n",
    "\n",
    "```python\n",
    "%time df.groupby('category')['value'].mean()"
   ]
  },
  {
   "cell_type": "markdown",
   "id": "043090e6-8bc5-418d-9910-107dd07fad52",
   "metadata": {},
   "source": [
    "### 💾 Замер использования памяти\n",
    "\n",
    "✅ **Установка `memory_profiler`**\n",
    "\n",
    "```python\n",
    "!pip install -q memory_profiler\n"
   ]
  },
  {
   "cell_type": "markdown",
   "id": "c03fed91-c775-41d6-bde8-e0dbf8229df9",
   "metadata": {},
   "source": [
    "✅ **Подключение в Jupyter**\n",
    "\n",
    "```python\n",
    "%load_ext memory_profiler\n"
   ]
  },
  {
   "cell_type": "markdown",
   "id": "22ec2bb5-9af6-4cf7-835b-e3f0359dd19f",
   "metadata": {},
   "source": [
    "✅ **Использование `%memit`**\n",
    "\n",
    "```python\n",
    "%%memit\n",
    "df['label'] = np.where(df['value'] > 50, 'high', 'low')\n"
   ]
  },
  {
   "cell_type": "markdown",
   "id": "69bfd974-869f-442b-87d8-8f3b5c7be618",
   "metadata": {},
   "source": [
    "`%memit` покажет **пиковое потребление памяти в мегабайтах** во время выполнения кода.\n"
   ]
  },
  {
   "cell_type": "code",
   "execution_count": null,
   "id": "ea08c3a1-235d-43ab-b1a9-b4c24c0818be",
   "metadata": {},
   "outputs": [],
   "source": []
  }
 ],
 "metadata": {
  "kernelspec": {
   "display_name": "Python 3 (ipykernel)",
   "language": "python",
   "name": "python3"
  },
  "language_info": {
   "codemirror_mode": {
    "name": "ipython",
    "version": 3
   },
   "file_extension": ".py",
   "mimetype": "text/x-python",
   "name": "python",
   "nbconvert_exporter": "python",
   "pygments_lexer": "ipython3",
   "version": "3.10.5"
  }
 },
 "nbformat": 4,
 "nbformat_minor": 5
}
